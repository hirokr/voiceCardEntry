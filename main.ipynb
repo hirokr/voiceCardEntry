{
 "cells": [
  {
   "cell_type": "code",
   "execution_count": 4,
   "metadata": {},
   "outputs": [
    {
     "name": "stdout",
     "output_type": "stream",
     "text": [
      "An error occurred: Could not find PyAudio; check installation\n"
     ]
    }
   ],
   "source": [
    "import pyttsx3\n",
    "import speech_recognition as sr \n",
    "import pyjokes \n",
    "import datetime\n",
    "import wikipedia\n",
    "from sys import exit\n",
    "\n",
    "listener = sr.Recognizer()\n",
    "engine = pyttsx3.init()\n",
    "voices = engine.getProperty('voices')\n",
    "engine.setProperty('voice', voices[1].id)\n",
    "\n",
    "def talk(text):\n",
    "    engine.say(text)\n",
    "    engine.runAndWait()\n",
    "\n",
    "def take_command():\n",
    "    try:\n",
    "        with sr.Microphone() as source:\n",
    "            print(\"Listening.....\")\n",
    "            voice = listener.listen(source)\n",
    "            command = listener.recognize_google(voice)\n",
    "            command = command.lower()\n",
    "            if 'alexa' in command:\n",
    "                command = command.replace('alexa', '').strip()\n",
    "                print(command)\n",
    "            return command\n",
    "    except sr.UnknownValueError:\n",
    "        print(\"Could not understand the audio.\")\n",
    "        return \"\"\n",
    "    except sr.RequestError as e:\n",
    "        print(f\"Could not request results; {e}\")\n",
    "        return \"\"\n",
    "    except Exception as e:\n",
    "        print(f\"An error occurred: {e}\")\n",
    "        return \"\"\n",
    "\n",
    "\n",
    "def run_alexa():\n",
    "    command = take_command()\n",
    "    if not command:\n",
    "        return\n",
    "\n",
    "    print(command)\n",
    "    if 'play' in command:\n",
    "        song = command.replace('play', '').strip()\n",
    "        talk(f'Playing {song} on YouTube')\n",
    "        # pywhatkit.playonyt(song) # Uncomment if pywhatkit is installed and used\n",
    "\n",
    "    elif 'time' in command:\n",
    "        time = datetime.datetime.now().strftime(\"%I:%M %p\")\n",
    "        talk(f'Current time is {time}')\n",
    "\n",
    "    elif 'who is' in command:\n",
    "        person = command.replace('who is', '').strip()\n",
    "        info = wikipedia.summary(person, sentences=1)\n",
    "        print(info)\n",
    "        talk(info)\n",
    "\n",
    "    elif 'date' in command:\n",
    "        talk(\"Sorry, I have a headache\")\n",
    "\n",
    "    elif 'are you single' in command:\n",
    "        talk('I am in a relationship with your Wi-Fi')\n",
    "\n",
    "    elif 'joke' in command:\n",
    "        joke = pyjokes.get_joke()\n",
    "        print(joke)\n",
    "        talk(joke)\n",
    "\n",
    "    elif 'exit' in command:\n",
    "        talk('Closing the program')\n",
    "        exit()\n",
    "\n",
    "    elif 'hello' in command or 'hey' in command:\n",
    "        talk('Hello, how may I help you?')\n",
    "\n",
    "    else:\n",
    "        talk('Please say the command again')\n",
    "\n",
    "\n",
    "run_alexa()\n"
   ]
  },
  {
   "cell_type": "code",
   "execution_count": null,
   "metadata": {},
   "outputs": [],
   "source": []
  },
  {
   "cell_type": "code",
   "execution_count": null,
   "metadata": {},
   "outputs": [],
   "source": []
  },
  {
   "cell_type": "code",
   "execution_count": null,
   "metadata": {},
   "outputs": [],
   "source": []
  }
 ],
 "metadata": {
  "kernelspec": {
   "display_name": "voice",
   "language": "python",
   "name": "python3"
  },
  "language_info": {
   "codemirror_mode": {
    "name": "ipython",
    "version": 3
   },
   "file_extension": ".py",
   "mimetype": "text/x-python",
   "name": "python",
   "nbconvert_exporter": "python",
   "pygments_lexer": "ipython3",
   "version": "3.12.7"
  }
 },
 "nbformat": 4,
 "nbformat_minor": 2
}
